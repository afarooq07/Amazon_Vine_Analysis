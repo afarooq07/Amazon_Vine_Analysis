{
 "cells": [
  {
   "cell_type": "code",
   "execution_count": 5,
   "id": "ac7dfac7",
   "metadata": {},
   "outputs": [],
   "source": [
    "import os\n",
    "import pandas as pd"
   ]
  },
  {
   "cell_type": "code",
   "execution_count": 6,
   "id": "1526a740",
   "metadata": {},
   "outputs": [
    {
     "data": {
      "text/html": [
       "<div>\n",
       "<style scoped>\n",
       "    .dataframe tbody tr th:only-of-type {\n",
       "        vertical-align: middle;\n",
       "    }\n",
       "\n",
       "    .dataframe tbody tr th {\n",
       "        vertical-align: top;\n",
       "    }\n",
       "\n",
       "    .dataframe thead th {\n",
       "        text-align: right;\n",
       "    }\n",
       "</style>\n",
       "<table border=\"1\" class=\"dataframe\">\n",
       "  <thead>\n",
       "    <tr style=\"text-align: right;\">\n",
       "      <th></th>\n",
       "      <th>review_id</th>\n",
       "      <th>star_rating</th>\n",
       "      <th>helpful_votes</th>\n",
       "      <th>total_votes</th>\n",
       "      <th>vine</th>\n",
       "      <th>verified_purchase</th>\n",
       "    </tr>\n",
       "  </thead>\n",
       "  <tbody>\n",
       "    <tr>\n",
       "      <th>0</th>\n",
       "      <td>R1P1G5KZ05H6RD</td>\n",
       "      <td>5</td>\n",
       "      <td>0</td>\n",
       "      <td>0</td>\n",
       "      <td>N</td>\n",
       "      <td>Y</td>\n",
       "    </tr>\n",
       "    <tr>\n",
       "      <th>1</th>\n",
       "      <td>R106N066IUN8ZV</td>\n",
       "      <td>5</td>\n",
       "      <td>0</td>\n",
       "      <td>0</td>\n",
       "      <td>N</td>\n",
       "      <td>Y</td>\n",
       "    </tr>\n",
       "    <tr>\n",
       "      <th>2</th>\n",
       "      <td>R7WTAA1S5O7D9</td>\n",
       "      <td>4</td>\n",
       "      <td>0</td>\n",
       "      <td>0</td>\n",
       "      <td>N</td>\n",
       "      <td>Y</td>\n",
       "    </tr>\n",
       "    <tr>\n",
       "      <th>3</th>\n",
       "      <td>R32HFMVWLYOYJK</td>\n",
       "      <td>5</td>\n",
       "      <td>0</td>\n",
       "      <td>0</td>\n",
       "      <td>N</td>\n",
       "      <td>Y</td>\n",
       "    </tr>\n",
       "    <tr>\n",
       "      <th>4</th>\n",
       "      <td>RWT3H6HBVAL6G</td>\n",
       "      <td>3</td>\n",
       "      <td>0</td>\n",
       "      <td>0</td>\n",
       "      <td>N</td>\n",
       "      <td>N</td>\n",
       "    </tr>\n",
       "  </tbody>\n",
       "</table>\n",
       "</div>"
      ],
      "text/plain": [
       "        review_id  star_rating  helpful_votes  total_votes vine  \\\n",
       "0  R1P1G5KZ05H6RD            5              0            0    N   \n",
       "1  R106N066IUN8ZV            5              0            0    N   \n",
       "2   R7WTAA1S5O7D9            4              0            0    N   \n",
       "3  R32HFMVWLYOYJK            5              0            0    N   \n",
       "4   RWT3H6HBVAL6G            3              0            0    N   \n",
       "\n",
       "  verified_purchase  \n",
       "0                 Y  \n",
       "1                 Y  \n",
       "2                 Y  \n",
       "3                 Y  \n",
       "4                 N  "
      ]
     },
     "execution_count": 6,
     "metadata": {},
     "output_type": "execute_result"
    }
   ],
   "source": [
    "# Read vine_table data file and store it in a Pandas DataFrame.\n",
    "vine_data_df = pd.read_csv(\"vine_table.csv\")\n",
    "vine_data_df.head()"
   ]
  },
  {
   "cell_type": "code",
   "execution_count": 15,
   "id": "7f3d861a",
   "metadata": {},
   "outputs": [
    {
     "data": {
      "text/plain": [
       "review_id            object\n",
       "star_rating           int64\n",
       "helpful_votes         int64\n",
       "total_votes           int64\n",
       "vine                 object\n",
       "verified_purchase    object\n",
       "dtype: object"
      ]
     },
     "execution_count": 15,
     "metadata": {},
     "output_type": "execute_result"
    }
   ],
   "source": [
    "# Verify datatypes \n",
    "vine_data_df.dtypes"
   ]
  },
  {
   "cell_type": "code",
   "execution_count": 25,
   "id": "0bdd2e67",
   "metadata": {},
   "outputs": [
    {
     "data": {
      "text/html": [
       "<div>\n",
       "<style scoped>\n",
       "    .dataframe tbody tr th:only-of-type {\n",
       "        vertical-align: middle;\n",
       "    }\n",
       "\n",
       "    .dataframe tbody tr th {\n",
       "        vertical-align: top;\n",
       "    }\n",
       "\n",
       "    .dataframe thead th {\n",
       "        text-align: right;\n",
       "    }\n",
       "</style>\n",
       "<table border=\"1\" class=\"dataframe\">\n",
       "  <thead>\n",
       "    <tr style=\"text-align: right;\">\n",
       "      <th></th>\n",
       "      <th>review_id</th>\n",
       "      <th>star_rating</th>\n",
       "      <th>helpful_votes</th>\n",
       "      <th>total_votes</th>\n",
       "      <th>vine</th>\n",
       "      <th>verified_purchase</th>\n",
       "    </tr>\n",
       "  </thead>\n",
       "  <tbody>\n",
       "    <tr>\n",
       "      <th>3943</th>\n",
       "      <td>RN8GRZ45FA27G</td>\n",
       "      <td>5</td>\n",
       "      <td>30</td>\n",
       "      <td>31</td>\n",
       "      <td>N</td>\n",
       "      <td>N</td>\n",
       "    </tr>\n",
       "    <tr>\n",
       "      <th>4805</th>\n",
       "      <td>R3DHJNHOZTXZ6C</td>\n",
       "      <td>1</td>\n",
       "      <td>0</td>\n",
       "      <td>20</td>\n",
       "      <td>N</td>\n",
       "      <td>N</td>\n",
       "    </tr>\n",
       "    <tr>\n",
       "      <th>4927</th>\n",
       "      <td>R2BVILHJN8OCJB</td>\n",
       "      <td>5</td>\n",
       "      <td>29</td>\n",
       "      <td>31</td>\n",
       "      <td>N</td>\n",
       "      <td>N</td>\n",
       "    </tr>\n",
       "    <tr>\n",
       "      <th>10144</th>\n",
       "      <td>R1L88H90CK9ID5</td>\n",
       "      <td>1</td>\n",
       "      <td>1</td>\n",
       "      <td>37</td>\n",
       "      <td>N</td>\n",
       "      <td>Y</td>\n",
       "    </tr>\n",
       "    <tr>\n",
       "      <th>13574</th>\n",
       "      <td>RJQ36XR04YC0D</td>\n",
       "      <td>5</td>\n",
       "      <td>21</td>\n",
       "      <td>24</td>\n",
       "      <td>N</td>\n",
       "      <td>N</td>\n",
       "    </tr>\n",
       "  </tbody>\n",
       "</table>\n",
       "</div>"
      ],
      "text/plain": [
       "            review_id  star_rating  helpful_votes  total_votes vine  \\\n",
       "3943    RN8GRZ45FA27G            5             30           31    N   \n",
       "4805   R3DHJNHOZTXZ6C            1              0           20    N   \n",
       "4927   R2BVILHJN8OCJB            5             29           31    N   \n",
       "10144  R1L88H90CK9ID5            1              1           37    N   \n",
       "13574   RJQ36XR04YC0D            5             21           24    N   \n",
       "\n",
       "      verified_purchase  \n",
       "3943                  N  \n",
       "4805                  N  \n",
       "4927                  N  \n",
       "10144                 Y  \n",
       "13574                 N  "
      ]
     },
     "execution_count": 25,
     "metadata": {},
     "output_type": "execute_result"
    }
   ],
   "source": [
    "# 1)create a new dataframe with all rows where the total_votes count >= 20\n",
    "filtered_vine_df = vine_data_df[vine_data_df[\"total_votes\"] >= 20]\n",
    "filtered_vine_df.head()\n",
    "#filtered_vine_df.count()"
   ]
  },
  {
   "cell_type": "code",
   "execution_count": 28,
   "id": "70c70a83",
   "metadata": {},
   "outputs": [
    {
     "data": {
      "text/plain": [
       "review_id            20201\n",
       "star_rating          20201\n",
       "helpful_votes        20201\n",
       "total_votes          20201\n",
       "vine                 20201\n",
       "verified_purchase    20201\n",
       "dtype: int64"
      ]
     },
     "execution_count": 28,
     "metadata": {},
     "output_type": "execute_result"
    }
   ],
   "source": [
    "# 2) filters rows in step (1) and create a new dataframe where helpful votes/total votes ratio is >= 50%\n",
    "helpful_reviews_df = filtered_vine_df[(filtered_vine_df[\"helpful_votes\"]/filtered_vine_df[\"total_votes\"]*100) >= 50]\n",
    "helpful_reviews_df.head()\n",
    "helpful_reviews_df.count()"
   ]
  },
  {
   "cell_type": "code",
   "execution_count": 21,
   "id": "dd7e78df",
   "metadata": {},
   "outputs": [
    {
     "data": {
      "text/plain": [
       "review_id            0\n",
       "star_rating          0\n",
       "helpful_votes        0\n",
       "total_votes          0\n",
       "vine                 0\n",
       "verified_purchase    0\n",
       "dtype: int64"
      ]
     },
     "execution_count": 21,
     "metadata": {},
     "output_type": "execute_result"
    }
   ],
   "source": [
    "# 3) filter rows in step (2) and create a new dataframe where review was written as part of the Vine program\n",
    "vine_reviews_df = helpful_reviews_df[helpful_reviews_df[\"vine\"] == 'Y']\n",
    "vine_reviews_df.count()"
   ]
  },
  {
   "cell_type": "code",
   "execution_count": 29,
   "id": "0f72e882",
   "metadata": {},
   "outputs": [
    {
     "data": {
      "text/plain": [
       "review_id            20201\n",
       "star_rating          20201\n",
       "helpful_votes        20201\n",
       "total_votes          20201\n",
       "vine                 20201\n",
       "verified_purchase    20201\n",
       "dtype: int64"
      ]
     },
     "execution_count": 29,
     "metadata": {},
     "output_type": "execute_result"
    }
   ],
   "source": [
    "# 4) filter rows in step (2) and create a new dataframe where review was NOT written as part of the Vine program\n",
    "non_vine_reviews_df = helpful_reviews_df[helpful_reviews_df[\"vine\"] == 'N']\n",
    "non_vine_reviews_df.count()"
   ]
  },
  {
   "cell_type": "code",
   "execution_count": 54,
   "id": "e16abb85",
   "metadata": {},
   "outputs": [
    {
     "name": "stdout",
     "output_type": "stream",
     "text": [
      "Total Vine Review:  0\n",
      "Total non-Vine Review:  20201\n",
      "Total 5-Star Vine Review:  0\n",
      "Total 5-Star non-Vine Review:  12331\n",
      "Percent 5-Star Vine Review:  [0]\n",
      "Percent 5-Star non-Vine Review:  [61.04153259739616]\n"
     ]
    }
   ],
   "source": [
    "# Determine Total # of reviews, # of 5-star reviews, and percentage of 5-star reviews for vine and non-vine reviews\n",
    "\n",
    "# Total Vine reviews:\n",
    "total_vine_reviews = vine_reviews_df.shape[0]\n",
    "total_nonvine_reviews = non_vine_reviews_df.shape[0]\n",
    "print(\"Total Vine Review: \", total_vine_reviews)\n",
    "print(\"Total non-Vine Review: \", total_nonvine_reviews)\n",
    "\n",
    "# Number of 5-star reviews:\n",
    "vine_5_star_reviews = vine_reviews_df[vine_reviews_df[\"star_rating\"]==5].count()[\"review_id\"]\n",
    "nonvine_5_star_reviews = non_vine_reviews_df[non_vine_reviews_df[\"star_rating\"]==5].count()[\"review_id\"]\n",
    "print(\"Total 5-Star Vine Review: \", vine_5_star_reviews)\n",
    "print(\"Total 5-Star non-Vine Review: \", nonvine_5_star_reviews)\n",
    "\n",
    "# Percentage of 5-star reviews \n",
    "vine_5_star_percent = [0 if total_vine_reviews == 0 else vine_5_star_reviews/total_vine_reviews]\n",
    "nonvine_5_star_percent = [0 if total_nonvine_reviews ==0 else nonvine_5_star_reviews/total_nonvine_reviews*100]\n",
    "\n",
    "\n",
    "print(\"Percent 5-Star Vine Review: \", vine_5_star_percent)\n",
    "print(\"Percent 5-Star non-Vine Review: \", nonvine_5_star_percent)\n"
   ]
  },
  {
   "cell_type": "code",
   "execution_count": null,
   "id": "63dd23e6",
   "metadata": {},
   "outputs": [],
   "source": []
  }
 ],
 "metadata": {
  "kernelspec": {
   "display_name": "mlenv",
   "language": "python",
   "name": "mlenv"
  },
  "language_info": {
   "codemirror_mode": {
    "name": "ipython",
    "version": 3
   },
   "file_extension": ".py",
   "mimetype": "text/x-python",
   "name": "python",
   "nbconvert_exporter": "python",
   "pygments_lexer": "ipython3",
   "version": "3.7.10"
  }
 },
 "nbformat": 4,
 "nbformat_minor": 5
}
