{
 "cells": [
  {
   "cell_type": "code",
   "execution_count": 1,
   "id": "ac7dfac7",
   "metadata": {},
   "outputs": [],
   "source": [
    "import os\n",
    "import pandas as pd"
   ]
  },
  {
   "cell_type": "code",
   "execution_count": 2,
   "id": "1526a740",
   "metadata": {},
   "outputs": [
    {
     "data": {
      "text/html": [
       "<div>\n",
       "<style scoped>\n",
       "    .dataframe tbody tr th:only-of-type {\n",
       "        vertical-align: middle;\n",
       "    }\n",
       "\n",
       "    .dataframe tbody tr th {\n",
       "        vertical-align: top;\n",
       "    }\n",
       "\n",
       "    .dataframe thead th {\n",
       "        text-align: right;\n",
       "    }\n",
       "</style>\n",
       "<table border=\"1\" class=\"dataframe\">\n",
       "  <thead>\n",
       "    <tr style=\"text-align: right;\">\n",
       "      <th></th>\n",
       "      <th>review_id</th>\n",
       "      <th>star_rating</th>\n",
       "      <th>helpful_votes</th>\n",
       "      <th>total_votes</th>\n",
       "      <th>vine</th>\n",
       "      <th>verified_purchase</th>\n",
       "    </tr>\n",
       "  </thead>\n",
       "  <tbody>\n",
       "    <tr>\n",
       "      <th>0</th>\n",
       "      <td>R3EFW2STIYIY0I</td>\n",
       "      <td>1</td>\n",
       "      <td>2</td>\n",
       "      <td>2</td>\n",
       "      <td>N</td>\n",
       "      <td>Y</td>\n",
       "    </tr>\n",
       "    <tr>\n",
       "      <th>1</th>\n",
       "      <td>R12NR0R5A9F7FT</td>\n",
       "      <td>5</td>\n",
       "      <td>0</td>\n",
       "      <td>0</td>\n",
       "      <td>N</td>\n",
       "      <td>Y</td>\n",
       "    </tr>\n",
       "    <tr>\n",
       "      <th>2</th>\n",
       "      <td>R1LSH74R9XAP59</td>\n",
       "      <td>2</td>\n",
       "      <td>0</td>\n",
       "      <td>1</td>\n",
       "      <td>N</td>\n",
       "      <td>Y</td>\n",
       "    </tr>\n",
       "    <tr>\n",
       "      <th>3</th>\n",
       "      <td>R1QXUNTF76K7L6</td>\n",
       "      <td>2</td>\n",
       "      <td>0</td>\n",
       "      <td>0</td>\n",
       "      <td>N</td>\n",
       "      <td>Y</td>\n",
       "    </tr>\n",
       "    <tr>\n",
       "      <th>4</th>\n",
       "      <td>R2F7DR75PS8NKT</td>\n",
       "      <td>5</td>\n",
       "      <td>0</td>\n",
       "      <td>0</td>\n",
       "      <td>N</td>\n",
       "      <td>Y</td>\n",
       "    </tr>\n",
       "  </tbody>\n",
       "</table>\n",
       "</div>"
      ],
      "text/plain": [
       "        review_id  star_rating  helpful_votes  total_votes vine  \\\n",
       "0  R3EFW2STIYIY0I            1              2            2    N   \n",
       "1  R12NR0R5A9F7FT            5              0            0    N   \n",
       "2  R1LSH74R9XAP59            2              0            1    N   \n",
       "3  R1QXUNTF76K7L6            2              0            0    N   \n",
       "4  R2F7DR75PS8NKT            5              0            0    N   \n",
       "\n",
       "  verified_purchase  \n",
       "0                 Y  \n",
       "1                 Y  \n",
       "2                 Y  \n",
       "3                 Y  \n",
       "4                 Y  "
      ]
     },
     "execution_count": 2,
     "metadata": {},
     "output_type": "execute_result"
    }
   ],
   "source": [
    "# Read vine_table data file and store it in a Pandas DataFrame.\n",
    "vine_data_df = pd.read_csv(\"vine_table.csv\")\n",
    "vine_data_df.head()"
   ]
  },
  {
   "cell_type": "code",
   "execution_count": 3,
   "id": "7f3d861a",
   "metadata": {},
   "outputs": [
    {
     "data": {
      "text/plain": [
       "review_id            object\n",
       "star_rating           int64\n",
       "helpful_votes         int64\n",
       "total_votes           int64\n",
       "vine                 object\n",
       "verified_purchase    object\n",
       "dtype: object"
      ]
     },
     "execution_count": 3,
     "metadata": {},
     "output_type": "execute_result"
    }
   ],
   "source": [
    "# Verify datatypes \n",
    "vine_data_df.dtypes"
   ]
  },
  {
   "cell_type": "code",
   "execution_count": 32,
   "id": "0bdd2e67",
   "metadata": {},
   "outputs": [
    {
     "data": {
      "text/html": [
       "<div>\n",
       "<style scoped>\n",
       "    .dataframe tbody tr th:only-of-type {\n",
       "        vertical-align: middle;\n",
       "    }\n",
       "\n",
       "    .dataframe tbody tr th {\n",
       "        vertical-align: top;\n",
       "    }\n",
       "\n",
       "    .dataframe thead th {\n",
       "        text-align: right;\n",
       "    }\n",
       "</style>\n",
       "<table border=\"1\" class=\"dataframe\">\n",
       "  <thead>\n",
       "    <tr style=\"text-align: right;\">\n",
       "      <th></th>\n",
       "      <th>review_id</th>\n",
       "      <th>star_rating</th>\n",
       "      <th>helpful_votes</th>\n",
       "      <th>total_votes</th>\n",
       "      <th>vine</th>\n",
       "      <th>verified_purchase</th>\n",
       "    </tr>\n",
       "  </thead>\n",
       "  <tbody>\n",
       "    <tr>\n",
       "      <th>19</th>\n",
       "      <td>R26CC1STPSUHBS</td>\n",
       "      <td>1</td>\n",
       "      <td>27</td>\n",
       "      <td>39</td>\n",
       "      <td>N</td>\n",
       "      <td>N</td>\n",
       "    </tr>\n",
       "    <tr>\n",
       "      <th>202</th>\n",
       "      <td>R7K83D59T9KWS</td>\n",
       "      <td>1</td>\n",
       "      <td>16</td>\n",
       "      <td>26</td>\n",
       "      <td>N</td>\n",
       "      <td>N</td>\n",
       "    </tr>\n",
       "    <tr>\n",
       "      <th>219</th>\n",
       "      <td>R2ATG5BPVILHUM</td>\n",
       "      <td>1</td>\n",
       "      <td>16</td>\n",
       "      <td>25</td>\n",
       "      <td>N</td>\n",
       "      <td>N</td>\n",
       "    </tr>\n",
       "    <tr>\n",
       "      <th>345</th>\n",
       "      <td>R1Q71TAM5ZOYTK</td>\n",
       "      <td>3</td>\n",
       "      <td>57</td>\n",
       "      <td>61</td>\n",
       "      <td>N</td>\n",
       "      <td>N</td>\n",
       "    </tr>\n",
       "    <tr>\n",
       "      <th>454</th>\n",
       "      <td>RR8HYI7C2XKMU</td>\n",
       "      <td>5</td>\n",
       "      <td>25</td>\n",
       "      <td>25</td>\n",
       "      <td>N</td>\n",
       "      <td>Y</td>\n",
       "    </tr>\n",
       "  </tbody>\n",
       "</table>\n",
       "</div>"
      ],
      "text/plain": [
       "          review_id  star_rating  helpful_votes  total_votes vine  \\\n",
       "19   R26CC1STPSUHBS            1             27           39    N   \n",
       "202   R7K83D59T9KWS            1             16           26    N   \n",
       "219  R2ATG5BPVILHUM            1             16           25    N   \n",
       "345  R1Q71TAM5ZOYTK            3             57           61    N   \n",
       "454   RR8HYI7C2XKMU            5             25           25    N   \n",
       "\n",
       "    verified_purchase  \n",
       "19                  N  \n",
       "202                 N  \n",
       "219                 N  \n",
       "345                 N  \n",
       "454                 Y  "
      ]
     },
     "execution_count": 32,
     "metadata": {},
     "output_type": "execute_result"
    }
   ],
   "source": [
    "# 1)create a new dataframe with all rows where the total_votes count >= 20\n",
    "filtered_vine_df = vine_data_df[vine_data_df[\"total_votes\"] >= 20]\n",
    "filtered_vine_df.head()\n",
    "#filtered_vine_df.count()\n",
    "#filtered_vine_df.groupby('vine').count()['review_id']"
   ]
  },
  {
   "cell_type": "code",
   "execution_count": 45,
   "id": "70c70a83",
   "metadata": {},
   "outputs": [
    {
     "data": {
      "text/html": [
       "<div>\n",
       "<style scoped>\n",
       "    .dataframe tbody tr th:only-of-type {\n",
       "        vertical-align: middle;\n",
       "    }\n",
       "\n",
       "    .dataframe tbody tr th {\n",
       "        vertical-align: top;\n",
       "    }\n",
       "\n",
       "    .dataframe thead th {\n",
       "        text-align: right;\n",
       "    }\n",
       "</style>\n",
       "<table border=\"1\" class=\"dataframe\">\n",
       "  <thead>\n",
       "    <tr style=\"text-align: right;\">\n",
       "      <th></th>\n",
       "      <th>review_id</th>\n",
       "      <th>star_rating</th>\n",
       "      <th>helpful_votes</th>\n",
       "      <th>total_votes</th>\n",
       "      <th>vine</th>\n",
       "      <th>verified_purchase</th>\n",
       "    </tr>\n",
       "  </thead>\n",
       "  <tbody>\n",
       "    <tr>\n",
       "      <th>19</th>\n",
       "      <td>R26CC1STPSUHBS</td>\n",
       "      <td>1</td>\n",
       "      <td>27</td>\n",
       "      <td>39</td>\n",
       "      <td>N</td>\n",
       "      <td>N</td>\n",
       "    </tr>\n",
       "    <tr>\n",
       "      <th>202</th>\n",
       "      <td>R7K83D59T9KWS</td>\n",
       "      <td>1</td>\n",
       "      <td>16</td>\n",
       "      <td>26</td>\n",
       "      <td>N</td>\n",
       "      <td>N</td>\n",
       "    </tr>\n",
       "    <tr>\n",
       "      <th>219</th>\n",
       "      <td>R2ATG5BPVILHUM</td>\n",
       "      <td>1</td>\n",
       "      <td>16</td>\n",
       "      <td>25</td>\n",
       "      <td>N</td>\n",
       "      <td>N</td>\n",
       "    </tr>\n",
       "    <tr>\n",
       "      <th>345</th>\n",
       "      <td>R1Q71TAM5ZOYTK</td>\n",
       "      <td>3</td>\n",
       "      <td>57</td>\n",
       "      <td>61</td>\n",
       "      <td>N</td>\n",
       "      <td>N</td>\n",
       "    </tr>\n",
       "    <tr>\n",
       "      <th>454</th>\n",
       "      <td>RR8HYI7C2XKMU</td>\n",
       "      <td>5</td>\n",
       "      <td>25</td>\n",
       "      <td>25</td>\n",
       "      <td>N</td>\n",
       "      <td>Y</td>\n",
       "    </tr>\n",
       "  </tbody>\n",
       "</table>\n",
       "</div>"
      ],
      "text/plain": [
       "          review_id  star_rating  helpful_votes  total_votes vine  \\\n",
       "19   R26CC1STPSUHBS            1             27           39    N   \n",
       "202   R7K83D59T9KWS            1             16           26    N   \n",
       "219  R2ATG5BPVILHUM            1             16           25    N   \n",
       "345  R1Q71TAM5ZOYTK            3             57           61    N   \n",
       "454   RR8HYI7C2XKMU            5             25           25    N   \n",
       "\n",
       "    verified_purchase  \n",
       "19                  N  \n",
       "202                 N  \n",
       "219                 N  \n",
       "345                 N  \n",
       "454                 Y  "
      ]
     },
     "execution_count": 45,
     "metadata": {},
     "output_type": "execute_result"
    }
   ],
   "source": [
    "# 2) filters rows in step (1) and create a new dataframe where helpful votes/total votes ratio is >= 50%\n",
    "helpful_reviews_df = filtered_vine_df[(filtered_vine_df[\"helpful_votes\"]/filtered_vine_df[\"total_votes\"]*100) >= 50]\n",
    "helpful_reviews_df.head()\n",
    "#helpful_reviews_df.count()\n",
    "#helpful_reviews_df.groupby('vine').count()['review_id']"
   ]
  },
  {
   "cell_type": "code",
   "execution_count": 6,
   "id": "dd7e78df",
   "metadata": {},
   "outputs": [
    {
     "data": {
      "text/plain": [
       "review_id            248\n",
       "star_rating          248\n",
       "helpful_votes        248\n",
       "total_votes          248\n",
       "vine                 248\n",
       "verified_purchase    248\n",
       "dtype: int64"
      ]
     },
     "execution_count": 6,
     "metadata": {},
     "output_type": "execute_result"
    }
   ],
   "source": [
    "# 3) filter rows in step (2) and create a new dataframe where review was written as part of the Vine program\n",
    "vine_reviews_df = helpful_reviews_df[helpful_reviews_df[\"vine\"] == 'Y']\n",
    "vine_reviews_df.count()"
   ]
  },
  {
   "cell_type": "code",
   "execution_count": 7,
   "id": "0f72e882",
   "metadata": {},
   "outputs": [
    {
     "data": {
      "text/plain": [
       "review_id            17514\n",
       "star_rating          17514\n",
       "helpful_votes        17514\n",
       "total_votes          17514\n",
       "vine                 17514\n",
       "verified_purchase    17514\n",
       "dtype: int64"
      ]
     },
     "execution_count": 7,
     "metadata": {},
     "output_type": "execute_result"
    }
   ],
   "source": [
    "# 4) filter rows in step (2) and create a new dataframe where review was NOT written as part of the Vine program\n",
    "non_vine_reviews_df = helpful_reviews_df[helpful_reviews_df[\"vine\"] == 'N']\n",
    "non_vine_reviews_df.count()"
   ]
  },
  {
   "cell_type": "code",
   "execution_count": 27,
   "id": "e16abb85",
   "metadata": {},
   "outputs": [
    {
     "name": "stdout",
     "output_type": "stream",
     "text": [
      "Total Vine Review:  248\n",
      "Total non-Vine Review:  17514\n",
      "Total 5-Star Vine Review:  102\n",
      "Total 5-Star non-Vine Review:  5154\n",
      "Percent 5-Star Vine Review:  41.12903225806452\n",
      "Percent 5-Star non-Vine Review:  29.427886262418635\n"
     ]
    }
   ],
   "source": [
    "# Determine Total # of reviews, # of 5-star reviews, and percentage of 5-star reviews for vine and non-vine reviews\n",
    "\n",
    "# Total Vine reviews:\n",
    "total_vine_reviews = vine_reviews_df.shape[0]\n",
    "total_nonvine_reviews = non_vine_reviews_df.shape[0]\n",
    "print(\"Total Vine Review: \", total_vine_reviews)\n",
    "print(\"Total non-Vine Review: \", total_nonvine_reviews)\n",
    "\n",
    "# Number of 5-star reviews:\n",
    "vine_5_star_reviews = vine_reviews_df[vine_reviews_df[\"star_rating\"]==5].count()[\"review_id\"]\n",
    "nonvine_5_star_reviews = non_vine_reviews_df[non_vine_reviews_df[\"star_rating\"]==5].count()[\"review_id\"]\n",
    "print(\"Total 5-Star Vine Review: \", vine_5_star_reviews)\n",
    "print(\"Total 5-Star non-Vine Review: \", nonvine_5_star_reviews)\n",
    "\n",
    "# Percentage of 5-star reviews \n",
    "vine_5_star_percent = [0 if total_vine_reviews == 0 else vine_5_star_reviews/total_vine_reviews*100]\n",
    "nonvine_5_star_percent = [0 if total_nonvine_reviews ==0 else nonvine_5_star_reviews/total_nonvine_reviews*100]\n",
    "\n",
    "\n",
    "print(\"Percent 5-Star Vine Review: \", vine_5_star_percent[0])\n",
    "print(\"Percent 5-Star non-Vine Review: \", nonvine_5_star_percent[0])\n"
   ]
  },
  {
   "cell_type": "markdown",
   "id": "6472d682",
   "metadata": {},
   "source": [
    "# Additional Analysis to Determine Bias"
   ]
  },
  {
   "cell_type": "markdown",
   "id": "fe92ac30",
   "metadata": {},
   "source": [
    "### Analysis 1: For this analysis, we will get percentage of reviews with 3-star rating or more for each user group: 1) Vine and 2) Non_vine to see if Vine users tend to give 3 star rating or higher"
   ]
  },
  {
   "cell_type": "code",
   "execution_count": 46,
   "id": "63dd23e6",
   "metadata": {},
   "outputs": [
    {
     "name": "stdout",
     "output_type": "stream",
     "text": [
      "Total Vine Review:  253\n",
      "Total non-Vine Review:  19963\n",
      "Total 3-Star plus Vine Review:  206\n",
      "Total 3-Star plus non-Vine Review:  10121\n",
      "Percent 3-Star plus Vine Review:  81.42292490118577\n",
      "Percent 3-Star plus non-Vine Review:  50.69879276661824\n"
     ]
    }
   ],
   "source": [
    "\n",
    "vine_reviews_new_df = filtered_vine_df[filtered_vine_df[\"vine\"] == 'Y']\n",
    "vine_reviews_new_df.count()\n",
    "\n",
    "non_vine_reviews_new_df = filtered_vine_df[filtered_vine_df[\"vine\"] == 'N']\n",
    "non_vine_reviews_new_df.count()\n",
    "\n",
    "\n",
    "# Total Vine/Non-Vine reviews:\n",
    "total_vine_reviews_new = vine_reviews_new_df.shape[0]\n",
    "total_nonvine_reviews_new = non_vine_reviews_new_df.shape[0]\n",
    "print(\"Total Vine Review: \", total_vine_reviews_new)\n",
    "print(\"Total non-Vine Review: \", total_nonvine_reviews_new)\n",
    "\n",
    "# Number of 3-star plus reviews:\n",
    "vine_3_star_reviews_new = vine_reviews_new_df[vine_reviews_new_df[\"star_rating\"]>=3].count()[\"review_id\"]\n",
    "nonvine_3_star_reviews_new = non_vine_reviews_new_df[non_vine_reviews_new_df[\"star_rating\"]>=3].count()[\"review_id\"]\n",
    "print(\"Total 3-Star plus Vine Review: \", vine_3_star_reviews_new)\n",
    "print(\"Total 3-Star plus non-Vine Review: \", nonvine_3_star_reviews_new)\n",
    "\n",
    "\n",
    "# Percentage of 3-star plus reviews \n",
    "vine_3_star_percent_new = [0 if total_vine_reviews_new == 0 else vine_3_star_reviews_new/total_vine_reviews_new*100]\n",
    "nonvine_3_star_percent_new = [0 if total_nonvine_reviews_new ==0 else nonvine_3_star_reviews_new/total_nonvine_reviews_new*100]\n",
    "print(\"Percent 3-Star plus Vine Review: \", vine_3_star_percent_new[0])\n",
    "print(\"Percent 3-Star plus non-Vine Review: \", nonvine_3_star_percent_new[0])\n"
   ]
  },
  {
   "cell_type": "markdown",
   "id": "3e582f55",
   "metadata": {},
   "source": [
    "### Analysis 2: Determine if Vine user reviews are statistically more helpful than non-vine users"
   ]
  },
  {
   "cell_type": "code",
   "execution_count": 43,
   "id": "9d30f387",
   "metadata": {},
   "outputs": [
    {
     "name": "stdout",
     "output_type": "stream",
     "text": [
      "Vine Users - Helpful Reviews %:      98.02371541501977\n",
      "Non-Vine Users - Helpful Reviews %:  87.73230476381305\n"
     ]
    }
   ],
   "source": [
    "# helpful review by vine/non-vine users\n",
    "helpful_vine_reviews_percent = helpful_reviews_df[helpful_reviews_df['vine']=='Y'].count()/filtered_vine_df[filtered_vine_df['vine']==\"Y\"].count()\n",
    "helpful_nonvine_reviews_percent =  helpful_reviews_df[helpful_reviews_df['vine']=='N'].count()/filtered_vine_df[filtered_vine_df['vine']==\"N\"].count()\n",
    "\n",
    "print(\"Vine Users - Helpful Reviews %:     \", helpful_vine_reviews_percent[0]*100)\n",
    "print(\"Non-Vine Users - Helpful Reviews %: \", helpful_nonvine_reviews_percent[0]*100)"
   ]
  },
  {
   "cell_type": "code",
   "execution_count": null,
   "id": "8fbcffb6",
   "metadata": {},
   "outputs": [],
   "source": []
  }
 ],
 "metadata": {
  "kernelspec": {
   "display_name": "mlenv",
   "language": "python",
   "name": "mlenv"
  },
  "language_info": {
   "codemirror_mode": {
    "name": "ipython",
    "version": 3
   },
   "file_extension": ".py",
   "mimetype": "text/x-python",
   "name": "python",
   "nbconvert_exporter": "python",
   "pygments_lexer": "ipython3",
   "version": "3.7.10"
  }
 },
 "nbformat": 4,
 "nbformat_minor": 5
}
